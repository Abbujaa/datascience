{
 "cells": [
  {
   "cell_type": "code",
   "execution_count": 1,
   "metadata": {},
   "outputs": [
    {
     "name": "stdout",
     "output_type": "stream",
     "text": [
      "Collecting numpy"
     ]
    },
    {
     "name": "stderr",
     "output_type": "stream",
     "text": [
      "\n",
      "[notice] A new release of pip is available: 24.2 -> 24.3.1\n",
      "[notice] To update, run: python.exe -m pip install --upgrade pip\n"
     ]
    },
    {
     "name": "stdout",
     "output_type": "stream",
     "text": [
      "\n",
      "  Downloading numpy-2.1.3-cp313-cp313-win_amd64.whl.metadata (60 kB)\n",
      "Downloading numpy-2.1.3-cp313-cp313-win_amd64.whl (12.6 MB)\n",
      "   ---------------------------------------- 0.0/12.6 MB ? eta -:--:--\n",
      "   ------ --------------------------------- 2.1/12.6 MB 11.3 MB/s eta 0:00:01\n",
      "   -------------- ------------------------- 4.5/12.6 MB 11.4 MB/s eta 0:00:01\n",
      "   -------------------- ------------------- 6.3/12.6 MB 10.5 MB/s eta 0:00:01\n",
      "   --------------------------- ------------ 8.7/12.6 MB 10.7 MB/s eta 0:00:01\n",
      "   ----------------------------------- ---- 11.0/12.6 MB 10.9 MB/s eta 0:00:01\n",
      "   ---------------------------------------- 12.6/12.6 MB 10.7 MB/s eta 0:00:00\n",
      "Installing collected packages: numpy\n",
      "Successfully installed numpy-2.1.3\n"
     ]
    }
   ],
   "source": [
    "!pip install numpy\n"
   ]
  },
  {
   "cell_type": "code",
   "execution_count": 6,
   "metadata": {},
   "outputs": [
    {
     "name": "stdout",
     "output_type": "stream",
     "text": [
      "list:  [1, 2, 'dog', 37, 19]\n",
      "Array:  [1 2 3 4 5]\n"
     ]
    }
   ],
   "source": [
    "# creation of numpy array and python list\n",
    "import numpy as np\n",
    "a = np.array([1,2,3,4,5])\n",
    "b = [1,2,'dog',37,19]\n",
    "\n",
    "print(\"list: \", b)\n",
    "print(\"Array: \", a)\n"
   ]
  },
  {
   "cell_type": "code",
   "execution_count": 8,
   "metadata": {},
   "outputs": [
    {
     "name": "stdout",
     "output_type": "stream",
     "text": [
      "sum:  [ 6  9 21 23 42]\n",
      "Product :  334\n"
     ]
    }
   ],
   "source": [
    "\n",
    "#addition\n",
    "a = np.array([1,2,3,4,5])\n",
    "b = np.array([5,7,18,19,37])\n",
    "print(\"sum: \", a+b)\n",
    "\n",
    "#dot product\n",
    "print(\"Product : \", np.dot(a,b))"
   ]
  },
  {
   "cell_type": "code",
   "execution_count": 9,
   "metadata": {},
   "outputs": [
    {
     "name": "stdout",
     "output_type": "stream",
     "text": [
      "list :  120\n",
      "Array :  56\n"
     ]
    }
   ],
   "source": [
    "#determining the memory usage of both\n",
    "import sys\n",
    "a = [1,2,3,4,5,6,7]\n",
    "b = np.array([1,2,3,4,5,6,7])\n",
    "print(\"list : \", sys.getsizeof(a))\n",
    "print(\"Array : \", b.nbytes)"
   ]
  },
  {
   "cell_type": "code",
   "execution_count": null,
   "metadata": {},
   "outputs": [],
   "source": []
  }
 ],
 "metadata": {
  "kernelspec": {
   "display_name": "Python 3",
   "language": "python",
   "name": "python3"
  },
  "language_info": {
   "codemirror_mode": {
    "name": "ipython",
    "version": 3
   },
   "file_extension": ".py",
   "mimetype": "text/x-python",
   "name": "python",
   "nbconvert_exporter": "python",
   "pygments_lexer": "ipython3",
   "version": "3.13.0"
  }
 },
 "nbformat": 4,
 "nbformat_minor": 2
}
