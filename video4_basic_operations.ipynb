{
 "cells": [
  {
   "cell_type": "markdown",
   "metadata": {},
   "source": [
    "__Basic Operations on Arrays__"
   ]
  },
  {
   "cell_type": "code",
   "execution_count": null,
   "metadata": {},
   "outputs": [
    {
     "name": "stdout",
     "output_type": "stream",
     "text": [
      "[ 4  6  8 10 12]\n",
      "[-2 -2 -2 -2 -2]\n",
      "[0.33333333 0.5        0.6        0.66666667 0.71428571]\n",
      "[ 3  8 15 24 35]\n",
      "[1 2 3 4 5]\n",
      "[    1    16   243  4096 78125]\n",
      "[[19 22]\n",
      " [43 50]]\n",
      "Sin. : [0.         0.25881905 0.5        0.8660254 ]\n",
      "Cos. : [1.         0.96592583 0.8660254  0.5       ]\n",
      "[0.         0.69314718 1.09861229 1.38629436 1.60943791]\n",
      "[0.         0.30103    0.47712125 0.60205999 0.69897   ]\n"
     ]
    },
    {
     "ename": "TypeError",
     "evalue": "'builtin_function_or_method' object is not subscriptable",
     "output_type": "error",
     "traceback": [
      "\u001b[1;31m---------------------------------------------------------------------------\u001b[0m",
      "\u001b[1;31mTypeError\u001b[0m                                 Traceback (most recent call last)",
      "Cell \u001b[1;32mIn[3], line 33\u001b[0m\n\u001b[0;32m     31\u001b[0m \u001b[38;5;28mprint\u001b[39m(np\u001b[38;5;241m.\u001b[39mlog10(a))\n\u001b[0;32m     32\u001b[0m \u001b[38;5;66;03m#bitwise operations\u001b[39;00m\n\u001b[1;32m---> 33\u001b[0m bit1 \u001b[38;5;241m=\u001b[39m \u001b[43mnp\u001b[49m\u001b[38;5;241;43m.\u001b[39;49m\u001b[43marray\u001b[49m\u001b[43m[\u001b[49m\u001b[43m(\u001b[49m\u001b[38;5;241;43m1\u001b[39;49m\u001b[43m,\u001b[49m\u001b[38;5;241;43m2\u001b[39;49m\u001b[43m,\u001b[49m\u001b[38;5;241;43m3\u001b[39;49m\u001b[43m,\u001b[49m\u001b[38;5;241;43m4\u001b[39;49m\u001b[43m)\u001b[49m\u001b[43m]\u001b[49m\n\u001b[0;32m     34\u001b[0m bit2 \u001b[38;5;241m=\u001b[39m np\u001b[38;5;241m.\u001b[39marray[(\u001b[38;5;241m1\u001b[39m,\u001b[38;5;241m2\u001b[39m,\u001b[38;5;241m3\u001b[39m,\u001b[38;5;241m4\u001b[39m)]\n\u001b[0;32m     35\u001b[0m \u001b[38;5;28mprint\u001b[39m(\u001b[38;5;124m\"\u001b[39m\u001b[38;5;124mBitwise and : \u001b[39m\u001b[38;5;124m\"\u001b[39m, np\u001b[38;5;241m.\u001b[39mbitwise_and(bit1,bit2))\n",
      "\u001b[1;31mTypeError\u001b[0m: 'builtin_function_or_method' object is not subscriptable"
     ]
    }
   ],
   "source": [
    "# Arithmetic operations\n",
    "import numpy as np\n",
    "a = np.array([1,2,3,4,5])\n",
    "b = np.array([3,4,5,6,7])\n",
    "#addition\n",
    "print(a+b)\n",
    "#subtraction\n",
    "print(a-b)\n",
    "#division\n",
    "print(a/b)\n",
    "#multiplication\n",
    "print(a*b)\n",
    "#modulo\n",
    "print(a%b)\n",
    "#exponentiation\n",
    "print(a**b)\n",
    "#matrix multiplication\n",
    "c=np.array([[1,2],[3,4]])\n",
    "d=np.array([[5,6],[7,8]])\n",
    "print(np.dot(c,d))\n",
    "#trigono functions\n",
    "trig = np.array([0,15,30,60])\n",
    "#degree to radians\n",
    "trig1 = np.deg2rad(trig)\n",
    "\n",
    "#converting the degree values to radians\n",
    "print(\"Sin. :\", np.sin(trig1))\n",
    "print(\"Cos. :\", np.cos(trig1))\n",
    "#log functions\n",
    "print(np.log(a))\n",
    "print(np.log10(a))\n",
    "# #bitwise operations\n",
    "# bit1 = np.array[(1,2,3,4), dtype=np.unit8]\n",
    "# bit2 = np.array[(1,2,3,4)]\n",
    "# print(\"Bitwise and : \", np.bitwise_and(bit1,bit2))\n",
    "# print(\"Bitwise or : \", np.bitwise_or(bit1,bit2))"
   ]
  },
  {
   "cell_type": "code",
   "execution_count": 4,
   "metadata": {},
   "outputs": [
    {
     "name": "stdout",
     "output_type": "stream",
     "text": [
      "[False False False False False]\n",
      "[False False False False False]\n",
      "[ True  True  True  True  True]\n",
      "[ True  True  True  True  True]\n",
      "[False False False False False]\n",
      "[ True  True  True  True  True]\n"
     ]
    }
   ],
   "source": [
    "#comparison operations\n",
    "print(a==b)\n",
    "print(a>b)\n",
    "print(a<b)\n",
    "print(a!=b)\n",
    "print(a>=b)\n",
    "print(a<=b)"
   ]
  },
  {
   "cell_type": "code",
   "execution_count": 6,
   "metadata": {},
   "outputs": [
    {
     "name": "stdout",
     "output_type": "stream",
     "text": [
      "15\n",
      "3.0\n",
      "3.0\n",
      "1.4142135623730951\n",
      "2.0\n",
      "5\n",
      "1\n"
     ]
    }
   ],
   "source": [
    "#aggregation functions\n",
    "\n",
    "#sum\n",
    "print(np.sum(a))\n",
    "#mean\n",
    "print(np.mean(a))\n",
    "#median\n",
    "print(np.median(a))\n",
    "#std deviation\n",
    "print(np.std(a))\n",
    "#variance\n",
    "print(np.var(a))\n",
    "#maximum\n",
    "print(np.amax(a))\n",
    "#minimum\n",
    "print(np.amin(a))"
   ]
  },
  {
   "cell_type": "code",
   "execution_count": 7,
   "metadata": {},
   "outputs": [
    {
     "name": "stdout",
     "output_type": "stream",
     "text": [
      "[3 4 5 6 7]\n"
     ]
    }
   ],
   "source": [
    "#sorting operaitons\n",
    "print(np.sort(b))"
   ]
  },
  {
   "cell_type": "code",
   "execution_count": 8,
   "metadata": {},
   "outputs": [
    {
     "name": "stdout",
     "output_type": "stream",
     "text": [
      "[7 6 5 4 3]\n"
     ]
    }
   ],
   "source": [
    "print(np.sort(b)[::-1])"
   ]
  },
  {
   "cell_type": "code",
   "execution_count": null,
   "metadata": {},
   "outputs": [],
   "source": []
  },
  {
   "cell_type": "code",
   "execution_count": null,
   "metadata": {},
   "outputs": [],
   "source": []
  }
 ],
 "metadata": {
  "kernelspec": {
   "display_name": "Python 3",
   "language": "python",
   "name": "python3"
  },
  "language_info": {
   "codemirror_mode": {
    "name": "ipython",
    "version": 3
   },
   "file_extension": ".py",
   "mimetype": "text/x-python",
   "name": "python",
   "nbconvert_exporter": "python",
   "pygments_lexer": "ipython3",
   "version": "3.13.0"
  }
 },
 "nbformat": 4,
 "nbformat_minor": 2
}
